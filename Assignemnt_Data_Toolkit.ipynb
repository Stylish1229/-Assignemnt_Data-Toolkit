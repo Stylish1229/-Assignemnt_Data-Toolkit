{
  "nbformat": 4,
  "nbformat_minor": 0,
  "metadata": {
    "colab": {
      "provenance": []
    },
    "kernelspec": {
      "name": "python3",
      "display_name": "Python 3"
    },
    "language_info": {
      "name": "python"
    }
  },
  "cells": [
    {
      "cell_type": "markdown",
      "source": [
        "1.  What is NumPy, and why is it widely used in Python ?\n",
        "- NumPy, short for Numerical Python, is a fundamental library for scientific computing in Python. It provides support for large, multi-dimensional arrays and matrices, along with a collection of mathematical functions to operate on these arrays efficiently. NumPy is the foundation for many other scientific libraries in Python, such as SciPy, pandas, and scikit-learn.\n",
        "- Why it is widely used :\n",
        "- Effiency : NumPy's array operations are highly optimized, making it ideal for handling large datasets and performing complex computations quickly.\n",
        "- Ease of Use: NumPy simplifies mathematical and logical operations on arrays, reducing the need for verbose loops and making code more readable.\n",
        "- Foundation for Other Libraries: Many popular Python libraries, such as pandas, SciPy, and scikit-learn, are built on top of NumPy, making it a critical tool in the data science ecosystem.\n",
        "- Integration with Other Tools: NumPy integrates seamlessly with other Python libraries and tools, such as Matplotlib for visualization and TensorFlow for machine learning."
      ],
      "metadata": {
        "id": "cAgiyC4wLtOc"
      }
    },
    {
      "cell_type": "markdown",
      "source": [
        "2.  How does broadcasting work in NumPy ?\n",
        "- Broadcasting in NumPy :\n",
        "Broadcasting is a powerful feature in NumPy that allows you to perform arithmetic operations on arrays of different shapes and sizes. It eliminates the need for explicitly reshaping or looping over arrays, making code more concise and efficient.\n",
        "How Broadcasting Works\n",
        "When performing operations on two arrays, NumPy compares their shapes element-wise. It starts from the trailing dimensions and works its way forward. Two dimensions are compatible for broadcasting if:\n",
        "\n",
        "- They are equal, or\n",
        "\n",
        "- One of them is 1.\n",
        "- If these conditions are not met, NumPy will raise a ValueError indicating that the arrays cannot be broadcast together.\n",
        "- Broadcasting Rules\n",
        "1. Align Dimensions:\n",
        "\n",
        "- NumPy aligns the shapes of the two arrays from the right (trailing dimension).\n",
        "\n",
        "- If the arrays have different numbers of dimensions, the smaller array is padded with ones on its left side.\n",
        "\n",
        "2. Compare Dimensions:\n",
        "\n",
        "- For each dimension, the sizes must either be equal or one of them must be 1.\n",
        "\n",
        "- If one of the sizes is 1, the array with that dimension is \"stretched\" (copied) to match the size of the other array."
      ],
      "metadata": {
        "id": "LkTsb3rnNULG"
      }
    },
    {
      "cell_type": "markdown",
      "source": [
        "3.  What is a Pandas DataFrame ?\n",
        "- A Pandas DataFrame is a two-dimensional, size-mutable, and potentially heterogeneous tabular data structure with labeled axes (rows and columns). It is one of the most commonly used data structures in Python for data manipulation and analysis. Think of it as an Excel spreadsheet or a SQL table, but with more powerful and flexible functionality.\n",
        "- Key Features of a DataFrame\n",
        "1. Tabular Structure:\n",
        "\n",
        "- Data is organized in rows and columns, similar to a table.\n",
        "\n",
        "- Each column can have a different data type (e.g., integers, floats, strings, etc.).\n",
        "\n",
        "2. Labeled Axes:\n",
        "\n",
        "- Rows and columns are labeled, allowing for easy access and manipulation of data.\n",
        "\n",
        "- Row labels are called the index, and column labels are called the columns.\n",
        "\n",
        "3. Size Mutability : Columns can be added or removed, and the size of the DataFrame can change dynamically.\n",
        "\n"
      ],
      "metadata": {
        "id": "Ckn5cLzTOwls"
      }
    },
    {
      "cell_type": "markdown",
      "source": [
        "4.  Explain the use of the groupby() method in Pandas ?\n",
        "- The `groupby()` method in Pandas is used to split a DataFrame into groups based on specified criteria, such as column values. It allows for efficient aggregation, transformation, or filtering of data within each group. Common operations include calculating summary statistics (e.g., mean, sum) or applying functions to each group. For example, `df.groupby('Category')['Value'].mean()` computes the mean of 'Value' for each unique 'Category'. The method is essential for analyzing and summarizing data by categories or patterns."
      ],
      "metadata": {
        "id": "Zm8R6LDbRYkV"
      }
    },
    {
      "cell_type": "markdown",
      "source": [
        "5. Why is Seaborn preferred for statistical visualization ?\n",
        "- Seaborn is preferred for statistical visualization because it is built on top of Matplotlib and integrates seamlessly with Pandas, making it easier to create complex, aesthetically pleasing plots with minimal code. It offers high-level functions for common statistical plots like histograms, box plots, and heatmaps, which are essential for data exploration. Seaborn automatically handles tasks like grouping, aggregating, and adding confidence intervals, reducing the need for manual coding. Its default styles and color palettes are designed to enhance readability and convey statistical insights effectively, making it a powerful tool for data analysts and scientists."
      ],
      "metadata": {
        "id": "OcIKs6U9TYVx"
      }
    },
    {
      "cell_type": "markdown",
      "source": [
        "6.  What are the differences between NumPy arrays and Python lists ?\n",
        "- NumPy arrays and Python lists differ in several key ways:\n",
        "\n",
        "1. Performance: NumPy arrays are faster for numerical operations due to optimized C-based backend, while Python lists are slower as they are more flexible and general-purpose.\n",
        "2. Memory Efficiency: NumPy arrays store data more compactly, consuming less memory compared to Python lists.\n",
        "3. Functionality: NumPy arrays support vectorized operations (e.g., element-wise arithmetic), whereas Python lists require explicit loops for such operations.\n",
        "4. Data Types: NumPy arrays are homogeneous (all elements must be of the same type), while Python lists can store heterogeneous data (mixed types).\n",
        "5. Size Flexibility: Python lists can dynamically resize, but NumPy arrays have a fixed size upon creation.\n",
        "\n",
        "NumPy arrays are ideal for numerical computations, while Python lists are more versatile for general-purpose use."
      ],
      "metadata": {
        "id": "HUor2Wp0TyF2"
      }
    },
    {
      "cell_type": "markdown",
      "source": [
        "7. What is a heatmap, and when should it be used ?\n",
        "- A heatmap is a graphical representation of data where individual values are represented by colors, typically in a two-dimensional matrix. It is used to visualize patterns, correlations, or variations in data, making it easier to identify trends or outliers.\n",
        "\n",
        "Heatmaps are particularly useful:\n",
        "1. Correlation Analysis: To show relationships between variables in a dataset.\n",
        "2. Data Density: To highlight areas of high or low concentration in large datasets.\n",
        "3. Categorical Data: To compare frequencies or distributions across categories.\n",
        "4. Time Series: To visualize changes over time, such as website traffic or temperature variations.\n",
        "\n",
        "Commonly used in fields like statistics, finance, and biology, heatmaps are effective for summarizing complex data in an intuitive, visual format. Libraries like Seaborn and Matplotlib in Python simplify their creation."
      ],
      "metadata": {
        "id": "TNJE_olxUaPT"
      }
    },
    {
      "cell_type": "markdown",
      "source": [
        "8.  What does the term “vectorized operation” mean in NumPy ?\n",
        "- In NumPy, a **vectorized operation** refers to performing operations on entire arrays or matrices at once, rather than using explicit loops to iterate over individual elements. This approach leverages optimized, low-level C and Fortran libraries, making computations significantly faster and more efficient.\n",
        "\n",
        "Benefits of Vectorization:\n",
        "1. Performance: Faster execution due to optimized internal implementations.\n",
        "2. Readability: Code is more concise and easier to understand.\n",
        "3. Efficiency: Reduces the need for explicit loops, minimizing overhead.\n",
        "\n",
        "Vectorized operations are a cornerstone of NumPy and are essential for efficient numerical computing."
      ],
      "metadata": {
        "id": "8Sp2joluXAwt"
      }
    },
    {
      "cell_type": "markdown",
      "source": [
        "9.  How does Matplotlib differ from Plotly ?\n",
        "- Matplotlib and Plotly are both popular visualization libraries, but they differ in several key aspects:\n",
        "\n",
        "1. Interactivity:\n",
        "   - Matplotlib: Primarily static plots, though limited interactivity can be added with additional tools.\n",
        "   - Plotly: Built-in support for highly interactive plots, including zooming, panning, and hover tooltips.\n",
        "\n",
        "2. Ease of Use:\n",
        "   - Matplotlib: Requires more code for complex plots and customization.\n",
        "   - Plotly: Simplifies the creation of interactive and complex visualizations with less code.\n",
        "\n",
        "3. Visual Appeal:\n",
        "   - Matplotlib: Basic default styles; customization needed for polished visuals.\n",
        "   - Plotly: Modern, aesthetically pleasing defaults with minimal effort.\n",
        "\n",
        "4. Use Cases:\n",
        "   - Matplotlib: Ideal for static, publication-quality plots and scientific visualizations.\n",
        "   - Plotly: Best for web-based, interactive dashboards and real-time data exploration.\n",
        "\n",
        "5. Integration:\n",
        "   - Matplotlib: Works well with NumPy and Pandas for static plots.\n",
        "   - Plotly: Integrates seamlessly with Dash for building web applications"
      ],
      "metadata": {
        "id": "iCKcIsZSX4X-"
      }
    },
    {
      "cell_type": "markdown",
      "source": [
        "10.  What is the significance of hierarchical indexing in Pandas ?\n",
        "- Hierarchical indexing (or MultiIndex) in Pandas allows you to work with higher-dimensional data in a two-dimensional DataFrame. It involves creating multiple levels of indices for rows or columns, enabling more complex and structured data representation.\n",
        "\n",
        "Significance:\n",
        "\n",
        "- Higher-Dimensional Data: Enables handling of data with more than two dimensions in a tabular format.\n",
        "\n",
        "- Data Organization: Facilitates better organization and grouping of data, making it easier to perform operations on subsets.\n",
        "\n",
        "- Advanced Indexing: Supports sophisticated indexing and slicing, allowing access to specific data subsets efficiently.\n",
        "\n",
        "- Aggregation and Summarization: Simplifies aggregation and summarization tasks across different levels of the index."
      ],
      "metadata": {
        "id": "TdLVuWW9aJsV"
      }
    },
    {
      "cell_type": "markdown",
      "source": [
        "11.  What is the role of Seaborn’s pairplot() function ?\n",
        "- The pairplot() function in Seaborn is used to create a grid of pairwise relationships in a dataset. It plots pairwise scatter plots for numerical columns and histograms or density plots for the diagonal, providing a comprehensive overview of the relationships and distributions between variables.\n",
        "\n",
        "Key Roles:\n",
        "\n",
        "- Exploratory Data Analysis (EDA): Helps identify patterns, correlations, and potential relationships between variables.\n",
        "\n",
        "- Visualization of Distributions: Displays the distribution of each numerical variable along the diagonal.\n",
        "\n",
        "- Correlation Insight: Reveals linear or non-linear relationships between pairs of variables through scatter plots.\n",
        "\n",
        "- Categorical Differentiation: Allows coloring of points based on a categorical variable to highlight group differences."
      ],
      "metadata": {
        "id": "xLqVc20ia3ak"
      }
    },
    {
      "cell_type": "markdown",
      "source": [
        "12.  What is the purpose of the describe() function in Pandas ?\n",
        "- The describe() function in Pandas provides a summary of statistical measures for numerical columns in a DataFrame. It is commonly used for quick exploratory data analysis (EDA) to understand the distribution and central tendencies of the data.\n",
        "\n",
        "Key Statistics Provided:\n",
        "\n",
        "- Count: Number of non-null entries.\n",
        "\n",
        "- Mean: Average value.\n",
        "\n",
        "- Std: Standard deviation, indicating data spread.\n",
        "\n",
        "- Min: Minimum value.\n",
        "\n",
        "- 25%: First quartile (25th percentile).\n",
        "\n",
        "- 50%: Median (50th percentile).\n",
        "\n",
        "- 75%: Third quartile (75th percentile).\n",
        "\n",
        "- Max: Maximum value."
      ],
      "metadata": {
        "id": "-wNBZbPObn_R"
      }
    },
    {
      "cell_type": "markdown",
      "source": [
        "13. Why is handling missing data important in Pandas ?\n",
        "- Handling missing data is crucial in Pandas for several reasons:\n",
        "\n",
        "Data Accuracy: Missing values can lead to inaccurate analyses and misleading conclusions. Proper handling ensures the integrity of the data.\n",
        "\n",
        "Model Performance: Many machine learning algorithms cannot handle missing values and may produce errors or biased results if not addressed.\n",
        "\n",
        "Statistical Validity: Missing data can skew statistical measures like mean, median, and standard deviation, affecting the validity of the analysis.\n",
        "\n",
        "Data Completeness: Ensures that datasets are complete and ready for further processing, visualization, or reporting."
      ],
      "metadata": {
        "id": "4Cha9RFAdmYS"
      }
    },
    {
      "cell_type": "markdown",
      "source": [
        "14. What are the benefits of using Plotly for data visualization ?\n",
        "- Using Plotly for data visualization offers several benefits:\n",
        "\n",
        "1. Interactivity: Plotly provides highly interactive plots with features like zooming, panning, hovering, and click events, enhancing user engagement and data exploration.\n",
        "\n",
        "2. Ease of Use: Simplifies the creation of complex visualizations with minimal code, making it accessible for both beginners and advanced users.\n",
        "\n",
        "3. Aesthetic Appeal: Offers modern, visually appealing default styles and themes, reducing the need for extensive customization.\n",
        "\n",
        "4. Web Integration: Seamlessly integrates with web applications and dashboards, particularly with Dash, enabling the creation of interactive, web-based data visualizations.\n",
        "\n",
        "5. Wide Range of Plot Types: Supports a variety of plot types, including 3D plots, geographic maps, and statistical charts, catering to diverse visualization needs.\n",
        "\n",
        "6. Collaboration: Allows easy sharing and embedding of plots in web pages, Jupyter notebooks, and reports, facilitating collaboration."
      ],
      "metadata": {
        "id": "2higQfQPflC5"
      }
    },
    {
      "cell_type": "markdown",
      "source": [
        "15.  How does NumPy handle multidimensional array ?\n",
        "- NumPy handles multidimensional arrays through its ndarray object, which is a flexible and efficient container for homogeneous data. Here’s how it manages multidimensional arrays:\n",
        "\n",
        "Shape and Dimensions: The shape of an array defines its dimensions, such as (rows, columns) for 2D arrays or (layers, rows, columns) for 3D arrays. The shape attribute provides this information.\n",
        "\n",
        "Indexing and Slicing: NumPy allows accessing elements using indexing and slicing, similar to Python lists but extended to multiple dimensions.\n",
        "\n",
        "Broadcasting: NumPy can perform operations on arrays of different shapes by broadcasting, which automatically expands smaller arrays to match the shape of larger ones.\n",
        "\n",
        "Vectorized Operations: Supports element-wise operations on entire arrays without explicit loops, enhancing performance.\n",
        "\n",
        "Memory Efficiency: Stores data in contiguous blocks of memory, making it efficient for large datasets.\n",
        "\n"
      ],
      "metadata": {
        "id": "J_b7kOVLgj3P"
      }
    },
    {
      "cell_type": "markdown",
      "source": [
        "16.  What is the role of Bokeh in data visualization ?\n",
        "Bokeh is a Python library for creating interactive, web-based data visualizations. It enables users to generate versatile, high-performance graphs and plots that can be easily embedded in web applications. Bokeh supports a wide range of chart types, offers tools for interactivity (e.g., zooming, panning, hovering), and allows for real-time updates, making it ideal for exploratory data analysis and dashboards. Its ability to handle large datasets efficiently and integrate with other tools like Pandas and Jupyter Notebooks enhances its utility in data visualization workflows.\n"
      ],
      "metadata": {
        "id": "G_zYmM0ZzY-C"
      }
    },
    {
      "cell_type": "markdown",
      "source": [
        "17.  Explain the difference between apply() and map() in Pandas ?\n",
        "- In Pandas, `apply()` and `map()` are used for data transformation but differ in their scope and application:\n",
        "\n",
        "1. map():\n",
        "   - Works exclusively on **Series** (single column).\n",
        "   - Used for **element-wise transformations** by mapping values from one set to another (e.g., using a dictionary or function).\n",
        "   - Ideal for simple, one-to-one replacements or transformations.\n",
        "\n",
        "2. apply():\n",
        "   - Works on both **Series** and **DataFrames**.\n",
        "   - For Series, it applies a function to each element (like `map()`).\n",
        "   - For DataFrames, it can apply a function to rows or columns (axis-wise).\n",
        "   - More flexible, supporting complex operations and aggregations.\n",
        "\n",
        "In summary, `map()` is for simple Series transformations, while `apply()` is more versatile for both Series and DataFrames."
      ],
      "metadata": {
        "id": "wd4UP_wf3Ul5"
      }
    },
    {
      "cell_type": "markdown",
      "source": [
        "18.  What are some advanced features of NumPy ?\n",
        "- NumPy offers several advanced features that enhance its utility for scientific computing:\n",
        "\n",
        "1. Broadcasting: Enables arithmetic operations on arrays of different shapes by automatically expanding dimensions.\n",
        "2. Advanced Indexing: Supports integer and boolean indexing for flexible array manipulation.\n",
        "3. Structured Arrays: Allows creation of arrays with complex data types (e.g., mixed data types in a single array).\n",
        "4. Universal Functions (ufuncs): Fast, element-wise operations supporting vectorization and custom functions.\n",
        "5. Memory-mapped Arrays: Enables handling of large datasets that don’t fit into memory by mapping disk files to arrays.\n",
        "6. Linear Algebra Operations: Built-in functions for matrix multiplication, decomposition, eigenvalues, and more.\n",
        "7. Random Number Generation: Comprehensive tools for generating random numbers and distributions.\n",
        "8. Masked Arrays: Supports arrays with missing or invalid data using masks.\n",
        "9. Interoperability: Seamless integration with C/C++ and Fortran code for performance optimization."
      ],
      "metadata": {
        "id": "SHw1i3aN5qbE"
      }
    },
    {
      "cell_type": "markdown",
      "source": [
        "19.  How does Pandas simplify time series analysis ?\n",
        "- Pandas simplifies time series analysis with its powerful, built-in tools and functionalities:\n",
        "\n",
        "1. DateTime Indexing: Supports time-based indexing, slicing, and resampling for easy manipulation of time series data.\n",
        "2. Resampling: Allows upsampling or downsampling data to different frequencies (e.g., daily to monthly).\n",
        "3. Time Zone Handling: Provides tools for working with time zones and converting between them.\n",
        "4. Shifting and Lagging: Enables shifting data for lag or lead analysis using shift().\n",
        "5. Rolling and Expanding Windows: Supports rolling statistics (e.g., moving averages) and expanding calculations (e.g., cumulative sums).\n",
        "6. Date Ranges: Generates date ranges with date_range() for creating or aligning time series data. to handle gaps in time series.\n",
        "8. Integration with Matplotlib: Simplifies visualization of time series data.\n",
        "\n",
        "These features make Pandas a robust tool for efficient and intuitive time series analysis."
      ],
      "metadata": {
        "id": "axDSwbzE6UMF"
      }
    },
    {
      "cell_type": "markdown",
      "source": [
        "20.  What is the role of a pivot table in Pandas ?\n",
        "- A pivot table in Pandas is used to summarize and analyze large datasets by reorganizing and aggregating data. Its key roles include:\n",
        "\n",
        "1. Data Summarization: Aggregates data (e.g., sum, mean, count) based on specified rows, columns, and values.\n",
        "2. Reorganization: Reshapes data for better readability and analysis by pivoting rows into columns or vice versa.\n",
        "3. Multi-dimensional Analysis: Enables analysis across multiple dimensions by grouping data based on categorical variables.\n",
        "4. Handling Missing Data: Automatically handles missing values during aggregation.\n",
        "5. Custom Aggregation: Supports custom aggregation functions for tailored analysis.\n",
        "\n",
        "Pivot tables are particularly useful for exploring relationships, trends, and patterns in data, making them a powerful tool for data analysis in Pandas."
      ],
      "metadata": {
        "id": "GyitjVPh9Ysz"
      }
    },
    {
      "cell_type": "markdown",
      "source": [
        "21.  Why is NumPy’s array slicing faster than Python’s list slicing ?\n",
        "- NumPy’s array slicing is faster than Python’s list slicing due to several key reasons:\n",
        "\n",
        "1. Memory Efficiency: NumPy arrays store data in contiguous blocks of memory, enabling faster access and manipulation compared to Python lists, which store pointers to objects scattered in memory.\n",
        "2. Vectorized Operation: NumPy leverages low-level, optimized C and Fortran libraries for operations, allowing efficient batch processing of array elements without Python’s overhead.\n",
        "3. Fixed Data Types: NumPy arrays have a fixed data type, reducing type-checking overhead during slicing, unlike Python lists, which can hold heterogeneous data types.\n",
        "4. Avoiding Copies: NumPy often creates views (not copies) during slicing, minimizing memory usage and speeding up operations.\n",
        "\n",
        "These optimizations make NumPy slicing significantly faster for numerical data."
      ],
      "metadata": {
        "id": "ktbECDaL-Jaf"
      }
    },
    {
      "cell_type": "markdown",
      "source": [
        "22.  What are some common use cases for Seaborn?\n",
        "- Seaborn is a popular Python data visualization library built on top of Matplotlib. It provides a high-level interface for creating attractive and informative statistical graphics. Seaborn is particularly well-suited for visualizing relationships, distributions, and patterns in data. Here are some common use cases for Seaborn:\n",
        "\n",
        "1. Visualizing Relationships Between Variables\n",
        "Scatter Plots: Use sns.scatterplot() to explore relationships between two numerical variables.\n",
        "\n",
        "- Line Plots: Use sns.lineplot() to show trends over time or continuous data.\n",
        "\n",
        "- Pair Plots: Use sns.pairplot() to visualize pairwise relationships in a dataset.\n",
        "\n",
        "- Heatmaps: Use sns.heatmap() to display correlations or relationships in a matrix format.\n",
        " - Analyzing Distributions :\n",
        "Histograms: Use sns.histplot() to visualize the distribution of a single numerical variable.\n",
        "\n",
        "Kernel Density Estimates (KDE): Use sns.kdeplot() to show smooth distributions.\n",
        "\n",
        "Box Plots: Use sns.boxplot() to display the distribution of data and identify outliers.\n",
        "\n",
        "Violin Plots: Use sns.violinplot() to combine a box plot and KDE for richer distribution insights.\n"
      ],
      "metadata": {
        "id": "h_ObtiPI-9qV"
      }
    },
    {
      "cell_type": "code",
      "source": [
        "import numpy as np\n",
        "\n",
        "# Create a 2D NumPy array\n",
        "array_2d = np.array([[1, 2, 3],\n",
        "                     [4, 5, 6],\n",
        "                     [7, 8, 9]])\n",
        "\n",
        "# Calculate the sum of each row\n",
        "row_sums = np.sum(array_2d, axis=1)\n",
        "\n",
        "# Print the results\n",
        "print(\"2D Array:\")\n",
        "print(array_2d)\n",
        "print(\"Sum of each row:\")\n",
        "print(row_sums)"
      ],
      "metadata": {
        "colab": {
          "base_uri": "https://localhost:8080/"
        },
        "id": "HhltkKmF_9XC",
        "outputId": "6eca3f1a-3140-4239-931d-3386a2518e9b"
      },
      "execution_count": 1,
      "outputs": [
        {
          "output_type": "stream",
          "name": "stdout",
          "text": [
            "2D Array:\n",
            "[[1 2 3]\n",
            " [4 5 6]\n",
            " [7 8 9]]\n",
            "Sum of each row:\n",
            "[ 6 15 24]\n"
          ]
        }
      ]
    },
    {
      "cell_type": "code",
      "source": [
        "import pandas as pd\n",
        "\n",
        "# Create a sample DataFrame\n",
        "data = {\n",
        "    'Name': ['Alice', 'Bob', 'Charlie', 'David'],\n",
        "    'Age': [24, 30, 22, 35],\n",
        "    'Salary': [50000, 60000, 55000, 70000]\n",
        "}\n",
        "\n",
        "df = pd.DataFrame(data)\n",
        "\n",
        "# Calculate the mean of the 'Salary' column\n",
        "mean_salary = df['Salary'].mean()\n",
        "\n",
        "# Print the results\n",
        "print(\"DataFrame:\")\n",
        "print(df)\n",
        "print(\"\\nMean Salary:\")\n",
        "print(mean_salary)"
      ],
      "metadata": {
        "colab": {
          "base_uri": "https://localhost:8080/"
        },
        "id": "6WAUoYMxByqv",
        "outputId": "45a0306e-0ab2-499d-c424-e52dcdfc1035"
      },
      "execution_count": 3,
      "outputs": [
        {
          "output_type": "stream",
          "name": "stdout",
          "text": [
            "DataFrame:\n",
            "      Name  Age  Salary\n",
            "0    Alice   24   50000\n",
            "1      Bob   30   60000\n",
            "2  Charlie   22   55000\n",
            "3    David   35   70000\n",
            "\n",
            "Mean Salary:\n",
            "58750.0\n"
          ]
        }
      ]
    },
    {
      "cell_type": "code",
      "source": [
        "import matplotlib.pyplot as plt\n",
        "\n",
        "# Sample data\n",
        "x = [1, 2, 3, 4, 5]\n",
        "y = [2, 3, 5, 7, 11]\n",
        "\n",
        "# Create a scatter plot\n",
        "plt.scatter(x, y, color='blue', marker='o')\n",
        "\n",
        "# Add title and labels\n",
        "plt.title('Sample Scatter Plot')\n",
        "plt.xlabel('X-axis Label')\n",
        "plt.ylabel('Y-axis Label')\n",
        "\n",
        "# Show grid\n",
        "plt.grid(True)\n",
        "\n",
        "# Display the plot\n",
        "plt.show()"
      ],
      "metadata": {
        "colab": {
          "base_uri": "https://localhost:8080/",
          "height": 472
        },
        "id": "IV5cGLsUCZSc",
        "outputId": "b5d6c42a-5ebc-4fbf-d0f3-937d16b17daa"
      },
      "execution_count": 4,
      "outputs": [
        {
          "output_type": "display_data",
          "data": {
            "text/plain": [
              "<Figure size 640x480 with 1 Axes>"
            ],
            "image/png": "[encoded data removed]"
          },
          "metadata": {}
        }
      ]
    },
    {
      "cell_type": "code",
      "source": [
        "import pandas as pd\n",
        "import seaborn as sns\n",
        "import matplotlib.pyplot as plt\n",
        "\n",
        "# Sample data: Creating a DataFrame\n",
        "data = {\n",
        "    'A': [1, 2, 3, 4, 5],\n",
        "    'B': [5, 4, 3, 2, 1],\n",
        "    'C': [2, 3, 4, 5, 6],\n",
        "    'D': [5, 6, 7, 8, 7]\n",
        "}\n",
        "\n",
        "df = pd.DataFrame(data)\n",
        "\n",
        "# Calculate the correlation matrix\n",
        "correlation_matrix = df.corr()\n",
        "\n",
        "# Set up the matplotlib figure\n",
        "plt.figure(figsize=(8, 6))\n",
        "\n",
        "# Create a heatmap using Seaborn\n",
        "sns.heatmap(correlation_matrix, annot=True, cmap='coolwarm', fmt='.2f', square=True, cbar_kws={\"shrink\": .8})\n",
        "\n",
        "# Add title\n",
        "plt.title('Correlation Matrix Heatmap')\n",
        "\n",
        "# Show the plot\n",
        "plt.show()"
      ],
      "metadata": {
        "colab": {
          "base_uri": "https://localhost:8080/",
          "height": 545
        },
        "id": "fOFwRI8pCsLy",
        "outputId": "d16f8308-42b1-41c5-afdc-24be9a234f7e"
      },
      "execution_count": 5,
      "outputs": [
        {
          "output_type": "display_data",
          "data": {
            "text/plain": [
              "<Figure size 800x600 with 2 Axes>"
            ],
            "image/png": "[encoded data removed]"
          },
          "metadata": {}
        }
      ]
    },
    {
      "cell_type": "code",
      "source": [
        "import plotly.graph_objects as go\n",
        "\n",
        "# Sample data\n",
        "categories = ['Category A', 'Category B', 'Category C', 'Category D']\n",
        "values = [10, 15, 7, 12]\n",
        "\n",
        "# Create a bar plot\n",
        "fig = go.Figure(data=[go.Bar(x=categories, y=values)])\n",
        "\n",
        "# Add title and labels\n",
        "fig.update_layout(\n",
        "    title='Sample Bar Plot',\n",
        "    xaxis_title='Categories',\n",
        "    yaxis_title='Values'\n",
        ")\n",
        "\n",
        "# Show the plot\n",
        "fig.show()"
      ],
      "metadata": {
        "colab": {
          "base_uri": "https://localhost:8080/",
          "height": 542
        },
        "id": "-4Ai4JqKC990",
        "outputId": "a9480f34-a3a5-4b77-ef5c-c1dd08145f93"
      },
      "execution_count": 6,
      "outputs": [
        {
          "output_type": "display_data",
          "data": {
            "text/html": [
              "<html>\n",
              "<head><meta charset=\"utf-8\" /></head>\n",
              "<body>\n",
              "    <div>            <script src=\"https://cdnjs.cloudflare.com/ajax/libs/mathjax/2.7.5/MathJax.js?config=TeX-AMS-MML_SVG\"></script><script type=\"text/javascript\">if (window.MathJax && window.MathJax.Hub && window.MathJax.Hub.Config) {window.MathJax.Hub.Config({SVG: {font: \"STIX-Web\"}});}</script>                <script type=\"text/javascript\">window.PlotlyConfig = {MathJaxConfig: 'local'};</script>\n",
              "        <script charset=\"utf-8\" src=\"https://cdn.plot.ly/plotly-2.35.2.min.js\"></script>                <div id=\"4cae3112-87a7-4ac7-9aa8-75be4dad1aa0\" class=\"plotly-graph-div\" style=\"height:525px; width:100%;\"></div>            <script type=\"text/javascript\">                                    window.PLOTLYENV=window.PLOTLYENV || {};                                    if (document.getElementById(\"4cae3112-87a7-4ac7-9aa8-75be4dad1aa0\")) {                    Plotly.newPlot(                        \"4cae3112-87a7-4ac7-9aa8-75be4dad1aa0\",                        [{\"x\":[\"Category A\",\"Category B\",\"Category C\",\"Category D\"],\"y\":[10,15,7,12],\"type\":\"bar\"}],                        {\"template\":{\"data\":{\"histogram2dcontour\":[{\"type\":\"histogram2dcontour\",\"colorbar\":{\"outlinewidth\":0,\"ticks\":\"\"},\"colorscale\":[[0.0,\"#0d0887\"],[0.1111111111111111,\"#46039f\"],[0.2222222222222222,\"#7201a8\"],[0.3333333333333333,\"#9c179e\"],[0.4444444444444444,\"#bd3786\"],[0.5555555555555556,\"#d8576b\"],[0.6666666666666666,\"#ed7953\"],[0.7777777777777778,\"#fb9f3a\"],[0.8888888888888888,\"#fdca26\"],[1.0,\"#f0f921\"]]}],\"choropleth\":[{\"type\":\"choropleth\",\"colorbar\":{\"outlinewidth\":0,\"ticks\":\"\"}}],\"histogram2d\":[{\"type\":\"histogram2d\",\"colorbar\":{\"outlinewidth\":0,\"ticks\":\"\"},\"colorscale\":[[0.0,\"#0d0887\"],[0.1111111111111111,\"#46039f\"],[0.2222222222222222,\"#7201a8\"],[0.3333333333333333,\"#9c179e\"],[0.4444444444444444,\"#bd3786\"],[0.5555555555555556,\"#d8576b\"],[0.6666666666666666,\"#ed7953\"],[0.7777777777777778,\"#fb9f3a\"],[0.8888888888888888,\"#fdca26\"],[1.0,\"#f0f921\"]]}],\"heatmap\":[{\"type\":\"heatmap\",\"colorbar\":{\"outlinewidth\":0,\"ticks\":\"\"},\"colorscale\":[[0.0,\"#0d0887\"],[0.1111111111111111,\"#46039f\"],[0.2222222222222222,\"#7201a8\"],[0.3333333333333333,\"#9c179e\"],[0.4444444444444444,\"#bd3786\"],[0.5555555555555556,\"#d8576b\"],[0.6666666666666666,\"#ed7953\"],[0.7777777777777778,\"#fb9f3a\"],[0.8888888888888888,\"#fdca26\"],[1.0,\"#f0f921\"]]}],\"heatmapgl\":[{\"type\":\"heatmapgl\",\"colorbar\":{\"outlinewidth\":0,\"ticks\":\"\"},\"colorscale\":[[0.0,\"#0d0887\"],[0.1111111111111111,\"#46039f\"],[0.2222222222222222,\"#7201a8\"],[0.3333333333333333,\"#9c179e\"],[0.4444444444444444,\"#bd3786\"],[0.5555555555555556,\"#d8576b\"],[0.6666666666666666,\"#ed7953\"],[0.7777777777777778,\"#fb9f3a\"],[0.8888888888888888,\"#fdca26\"],[1.0,\"#f0f921\"]]}],\"contourcarpet\":[{\"type\":\"contourcarpet\",\"colorbar\":{\"outlinewidth\":0,\"ticks\":\"\"}}],\"contour\":[{\"type\":\"contour\",\"colorbar\":{\"outlinewidth\":0,\"ticks\":\"\"},\"colorscale\":[[0.0,\"#0d0887\"],[0.1111111111111111,\"#46039f\"],[0.2222222222222222,\"#7201a8\"],[0.3333333333333333,\"#9c179e\"],[0.4444444444444444,\"#bd3786\"],[0.5555555555555556,\"#d8576b\"],[0.6666666666666666,\"#ed7953\"],[0.7777777777777778,\"#fb9f3a\"],[0.8888888888888888,\"#fdca26\"],[1.0,\"#f0f921\"]]}],\"surface\":[{\"type\":\"surface\",\"colorbar\":{\"outlinewidth\":0,\"ticks\":\"\"},\"colorscale\":[[0.0,\"#0d0887\"],[0.1111111111111111,\"#46039f\"],[0.2222222222222222,\"#7201a8\"],[0.3333333333333333,\"#9c179e\"],[0.4444444444444444,\"#bd3786\"],[0.5555555555555556,\"#d8576b\"],[0.6666666666666666,\"#ed7953\"],[0.7777777777777778,\"#fb9f3a\"],[0.8888888888888888,\"#fdca26\"],[1.0,\"#f0f921\"]]}],\"mesh3d\":[{\"type\":\"mesh3d\",\"colorbar\":{\"outlinewidth\":0,\"ticks\":\"\"}}],\"scatter\":[{\"fillpattern\":{\"fillmode\":\"overlay\",\"size\":10,\"solidity\":0.2},\"type\":\"scatter\"}],\"parcoords\":[{\"type\":\"parcoords\",\"line\":{\"colorbar\":{\"outlinewidth\":0,\"ticks\":\"\"}}}],\"scatterpolargl\":[{\"type\":\"scatterpolargl\",\"marker\":{\"colorbar\":{\"outlinewidth\":0,\"ticks\":\"\"}}}],\"bar\":[{\"error_x\":{\"color\":\"#2a3f5f\"},\"error_y\":{\"color\":\"#2a3f5f\"},\"marker\":{\"line\":{\"color\":\"#E5ECF6\",\"width\":0.5},\"pattern\":{\"fillmode\":\"overlay\",\"size\":10,\"solidity\":0.2}},\"type\":\"bar\"}],\"scattergeo\":[{\"type\":\"scattergeo\",\"marker\":{\"colorbar\":{\"outlinewidth\":0,\"ticks\":\"\"}}}],\"scatterpolar\":[{\"type\":\"scatterpolar\",\"marker\":{\"colorbar\":{\"outlinewidth\":0,\"ticks\":\"\"}}}],\"histogram\":[{\"marker\":{\"pattern\":{\"fillmode\":\"overlay\",\"size\":10,\"solidity\":0.2}},\"type\":\"histogram\"}],\"scattergl\":[{\"type\":\"scattergl\",\"marker\":{\"colorbar\":{\"outlinewidth\":0,\"ticks\":\"\"}}}],\"scatter3d\":[{\"type\":\"scatter3d\",\"line\":{\"colorbar\":{\"outlinewidth\":0,\"ticks\":\"\"}},\"marker\":{\"colorbar\":{\"outlinewidth\":0,\"ticks\":\"\"}}}],\"scattermapbox\":[{\"type\":\"scattermapbox\",\"marker\":{\"colorbar\":{\"outlinewidth\":0,\"ticks\":\"\"}}}],\"scatterternary\":[{\"type\":\"scatterternary\",\"marker\":{\"colorbar\":{\"outlinewidth\":0,\"ticks\":\"\"}}}],\"scattercarpet\":[{\"type\":\"scattercarpet\",\"marker\":{\"colorbar\":{\"outlinewidth\":0,\"ticks\":\"\"}}}],\"carpet\":[{\"aaxis\":{\"endlinecolor\":\"#2a3f5f\",\"gridcolor\":\"white\",\"linecolor\":\"white\",\"minorgridcolor\":\"white\",\"startlinecolor\":\"#2a3f5f\"},\"baxis\":{\"endlinecolor\":\"#2a3f5f\",\"gridcolor\":\"white\",\"linecolor\":\"white\",\"minorgridcolor\":\"white\",\"startlinecolor\":\"#2a3f5f\"},\"type\":\"carpet\"}],\"table\":[{\"cells\":{\"fill\":{\"color\":\"#EBF0F8\"},\"line\":{\"color\":\"white\"}},\"header\":{\"fill\":{\"color\":\"#C8D4E3\"},\"line\":{\"color\":\"white\"}},\"type\":\"table\"}],\"barpolar\":[{\"marker\":{\"line\":{\"color\":\"#E5ECF6\",\"width\":0.5},\"pattern\":{\"fillmode\":\"overlay\",\"size\":10,\"solidity\":0.2}},\"type\":\"barpolar\"}],\"pie\":[{\"automargin\":true,\"type\":\"pie\"}]},\"layout\":{\"autotypenumbers\":\"strict\",\"colorway\":[\"#636efa\",\"#EF553B\",\"#00cc96\",\"#ab63fa\",\"#FFA15A\",\"#19d3f3\",\"#FF6692\",\"#B6E880\",\"#FF97FF\",\"#FECB52\"],\"font\":{\"color\":\"#2a3f5f\"},\"hovermode\":\"closest\",\"hoverlabel\":{\"align\":\"left\"},\"paper_bgcolor\":\"white\",\"plot_bgcolor\":\"#E5ECF6\",\"polar\":{\"bgcolor\":\"#E5ECF6\",\"angularaxis\":{\"gridcolor\":\"white\",\"linecolor\":\"white\",\"ticks\":\"\"},\"radialaxis\":{\"gridcolor\":\"white\",\"linecolor\":\"white\",\"ticks\":\"\"}},\"ternary\":{\"bgcolor\":\"#E5ECF6\",\"aaxis\":{\"gridcolor\":\"white\",\"linecolor\":\"white\",\"ticks\":\"\"},\"baxis\":{\"gridcolor\":\"white\",\"linecolor\":\"white\",\"ticks\":\"\"},\"caxis\":{\"gridcolor\":\"white\",\"linecolor\":\"white\",\"ticks\":\"\"}},\"coloraxis\":{\"colorbar\":{\"outlinewidth\":0,\"ticks\":\"\"}},\"colorscale\":{\"sequential\":[[0.0,\"#0d0887\"],[0.1111111111111111,\"#46039f\"],[0.2222222222222222,\"#7201a8\"],[0.3333333333333333,\"#9c179e\"],[0.4444444444444444,\"#bd3786\"],[0.5555555555555556,\"#d8576b\"],[0.6666666666666666,\"#ed7953\"],[0.7777777777777778,\"#fb9f3a\"],[0.8888888888888888,\"#fdca26\"],[1.0,\"#f0f921\"]],\"sequentialminus\":[[0.0,\"#0d0887\"],[0.1111111111111111,\"#46039f\"],[0.2222222222222222,\"#7201a8\"],[0.3333333333333333,\"#9c179e\"],[0.4444444444444444,\"#bd3786\"],[0.5555555555555556,\"#d8576b\"],[0.6666666666666666,\"#ed7953\"],[0.7777777777777778,\"#fb9f3a\"],[0.8888888888888888,\"#fdca26\"],[1.0,\"#f0f921\"]],\"diverging\":[[0,\"#8e0152\"],[0.1,\"#c51b7d\"],[0.2,\"#de77ae\"],[0.3,\"#f1b6da\"],[0.4,\"#fde0ef\"],[0.5,\"#f7f7f7\"],[0.6,\"#e6f5d0\"],[0.7,\"#b8e186\"],[0.8,\"#7fbc41\"],[0.9,\"#4d9221\"],[1,\"#276419\"]]},\"xaxis\":{\"gridcolor\":\"white\",\"linecolor\":\"white\",\"ticks\":\"\",\"title\":{\"standoff\":15},\"zerolinecolor\":\"white\",\"automargin\":true,\"zerolinewidth\":2},\"yaxis\":{\"gridcolor\":\"white\",\"linecolor\":\"white\",\"ticks\":\"\",\"title\":{\"standoff\":15},\"zerolinecolor\":\"white\",\"automargin\":true,\"zerolinewidth\":2},\"scene\":{\"xaxis\":{\"backgroundcolor\":\"#E5ECF6\",\"gridcolor\":\"white\",\"linecolor\":\"white\",\"showbackground\":true,\"ticks\":\"\",\"zerolinecolor\":\"white\",\"gridwidth\":2},\"yaxis\":{\"backgroundcolor\":\"#E5ECF6\",\"gridcolor\":\"white\",\"linecolor\":\"white\",\"showbackground\":true,\"ticks\":\"\",\"zerolinecolor\":\"white\",\"gridwidth\":2},\"zaxis\":{\"backgroundcolor\":\"#E5ECF6\",\"gridcolor\":\"white\",\"linecolor\":\"white\",\"showbackground\":true,\"ticks\":\"\",\"zerolinecolor\":\"white\",\"gridwidth\":2}},\"shapedefaults\":{\"line\":{\"color\":\"#2a3f5f\"}},\"annotationdefaults\":{\"arrowcolor\":\"#2a3f5f\",\"arrowhead\":0,\"arrowwidth\":1},\"geo\":{\"bgcolor\":\"white\",\"landcolor\":\"#E5ECF6\",\"subunitcolor\":\"white\",\"showland\":true,\"showlakes\":true,\"lakecolor\":\"white\"},\"title\":{\"x\":0.05},\"mapbox\":{\"style\":\"light\"}}},\"title\":{\"text\":\"Sample Bar Plot\"},\"xaxis\":{\"title\":{\"text\":\"Categories\"}},\"yaxis\":{\"title\":{\"text\":\"Values\"}}},                        {\"responsive\": true}                    ).then(function(){\n",
              "                            \n",
              "var gd = document.getElementById('4cae3112-87a7-4ac7-9aa8-75be4dad1aa0');\n",
              "var x = new MutationObserver(function (mutations, observer) {{\n",
              "        var display = window.getComputedStyle(gd).display;\n",
              "        if (!display || display === 'none') {{\n",
              "            console.log([gd, 'removed!']);\n",
              "            Plotly.purge(gd);\n",
              "            observer.disconnect();\n",
              "        }}\n",
              "}});\n",
              "\n",
              "// Listen for the removal of the full notebook cells\n",
              "var notebookContainer = gd.closest('#notebook-container');\n",
              "if (notebookContainer) {{\n",
              "    x.observe(notebookContainer, {childList: true});\n",
              "}}\n",
              "\n",
              "// Listen for the clearing of the current output cell\n",
              "var outputEl = gd.closest('.output');\n",
              "if (outputEl) {{\n",
              "    x.observe(outputEl, {childList: true});\n",
              "}}\n",
              "\n",
              "                        })                };                            </script>        </div>\n",
              "</body>\n",
              "</html>"
            ]
          },
          "metadata": {}
        }
      ]
    },
    {
      "cell_type": "code",
      "source": [
        "import pandas as pd\n",
        "\n",
        "# Create a sample DataFrame\n",
        "data = {\n",
        "    'Name': ['Alice', 'Bob', 'Charlie', 'David'],\n",
        "    'Age': [24, 30, 22, 35],\n",
        "    'Salary': [50000, 60000, 55000, 70000]\n",
        "}\n",
        "\n",
        "df = pd.DataFrame(data)\n",
        "\n",
        "# Add a new column 'Salary After Tax' based on the 'Salary' column\n",
        "# Assuming a tax rate of 20%\n",
        "tax_rate = 0.20\n",
        "df['Salary After Tax'] = df['Salary'] * (1 - tax_rate)\n",
        "\n",
        "# Print the updated DataFrame\n",
        "print(\"Updated DataFrame:\")\n",
        "print(df)"
      ],
      "metadata": {
        "colab": {
          "base_uri": "https://localhost:8080/"
        },
        "id": "zf5fvbKTDKeP",
        "outputId": "06d3c58f-0238-439d-a345-a57c3a5c1891"
      },
      "execution_count": 7,
      "outputs": [
        {
          "output_type": "stream",
          "name": "stdout",
          "text": [
            "Updated DataFrame:\n",
            "      Name  Age  Salary  Salary After Tax\n",
            "0    Alice   24   50000           40000.0\n",
            "1      Bob   30   60000           48000.0\n",
            "2  Charlie   22   55000           44000.0\n",
            "3    David   35   70000           56000.0\n"
          ]
        }
      ]
    },
    {
      "cell_type": "code",
      "source": [
        "import numpy as np\n",
        "\n",
        "# Create two NumPy arrays\n",
        "array1 = np.array([1, 2, 3, 4])\n",
        "array2 = np.array([5, 6, 7, 8])\n",
        "\n",
        "# Perform element-wise multiplication\n",
        "result = array1 * array2  # or you can use np.multiply(array1, array2)\n",
        "\n",
        "# Print the result\n",
        "print(\"Array 1:\")\n",
        "print(array1)\n",
        "print(\"Array 2:\")\n",
        "print(array2)\n",
        "print(\"Element-wise multiplication result:\")\n",
        "print(result)"
      ],
      "metadata": {
        "colab": {
          "base_uri": "https://localhost:8080/"
        },
        "id": "VsdAxbOSD0iM",
        "outputId": "6ac247d1-eced-418d-be5e-cd0559e92d0a"
      },
      "execution_count": 8,
      "outputs": [
        {
          "output_type": "stream",
          "name": "stdout",
          "text": [
            "Array 1:\n",
            "[1 2 3 4]\n",
            "Array 2:\n",
            "[5 6 7 8]\n",
            "Element-wise multiplication result:\n",
            "[ 5 12 21 32]\n"
          ]
        }
      ]
    },
    {
      "cell_type": "code",
      "source": [
        "import matplotlib.pyplot as plt\n",
        "\n",
        "# Sample data\n",
        "x = [1, 2, 3, 4, 5]\n",
        "y1 = [1, 3, 2, 5, 4]  # First line\n",
        "y2 = [2, 4, 3, 6, 5]  # Second line\n",
        "y3 = [3, 5, 4, 7, 6]  # Third line\n",
        "\n",
        "# Create a line plot\n",
        "plt.plot(x, y1, label='Line 1', marker='o')\n",
        "plt.plot(x, y2, label='Line 2', marker='s')\n",
        "plt.plot(x, y3, label='Line 3', marker='^')\n",
        "\n",
        "# Add title and labels\n",
        "plt.title('Multiple Line Plot')\n",
        "plt.xlabel('X-axis Label')\n",
        "plt.ylabel('Y-axis Label')\n",
        "\n",
        "# Show legend\n",
        "plt.legend()\n",
        "\n",
        "# Show grid\n",
        "plt.grid(True)\n",
        "\n",
        "# Display the plot\n",
        "plt.show()"
      ],
      "metadata": {
        "colab": {
          "base_uri": "https://localhost:8080/",
          "height": 472
        },
        "id": "EaqOVRZFECJe",
        "outputId": "5937f2e9-6bd4-4af6-e3de-d0d6c0bdab2d"
      },
      "execution_count": 9,
      "outputs": [
        {
          "output_type": "display_data",
          "data": {
            "text/plain": [
              "<Figure size 640x480 with 1 Axes>"
            ],
            "image/png": "[encoded data removed]"
          },
          "metadata": {}
        }
      ]
    },
    {
      "cell_type": "code",
      "source": [
        "import pandas as pd\n",
        "\n",
        "# Create a sample DataFrame\n",
        "data = {\n",
        "    'Name': ['Alice', 'Bob', 'Charlie', 'David', 'Eva'],\n",
        "    'Age': [24, 30, 22, 35, 28],\n",
        "    'Salary': [50000, 60000, 55000, 70000, 48000]\n",
        "}\n",
        "\n",
        "df = pd.DataFrame(data)\n",
        "\n",
        "# Define a threshold for filtering\n",
        "salary_threshold = 55000\n",
        "\n",
        "# Filter rows where 'Salary' is greater than the threshold\n",
        "filtered_df = df[df['Salary'] > salary_threshold]\n",
        "\n",
        "# Print the original and filtered DataFrames\n",
        "print(\"Original DataFrame:\")\n",
        "print(df)\n",
        "print(\"\\nFiltered DataFrame (Salary > 55000):\")\n",
        "print(filtered_df)"
      ],
      "metadata": {
        "colab": {
          "base_uri": "https://localhost:8080/"
        },
        "id": "LpjwP0TgFFAB",
        "outputId": "bee25fe0-75ae-4928-c1ae-f6e46d25000d"
      },
      "execution_count": 10,
      "outputs": [
        {
          "output_type": "stream",
          "name": "stdout",
          "text": [
            "Original DataFrame:\n",
            "      Name  Age  Salary\n",
            "0    Alice   24   50000\n",
            "1      Bob   30   60000\n",
            "2  Charlie   22   55000\n",
            "3    David   35   70000\n",
            "4      Eva   28   48000\n",
            "\n",
            "Filtered DataFrame (Salary > 55000):\n",
            "    Name  Age  Salary\n",
            "1    Bob   30   60000\n",
            "3  David   35   70000\n"
          ]
        }
      ]
    },
    {
      "cell_type": "code",
      "source": [
        "import seaborn as sns\n",
        "import matplotlib.pyplot as plt\n",
        "import numpy as np\n",
        "\n",
        "# Generate sample data: a normal distribution\n",
        "data = np.random.normal(loc=0, scale=1, size=1000)  # mean=0, std=1, n=1000\n",
        "\n",
        "# Create a histogram using Seaborn\n",
        "sns.histplot(data, bins=30, kde=True, color='blue')\n",
        "\n",
        "# Add title and labels\n",
        "plt.title('Histogram of Normally Distributed Data')\n",
        "plt.xlabel('Value')\n",
        "plt.ylabel('Frequency')\n",
        "\n",
        "# Show the plot\n",
        "plt.show()"
      ],
      "metadata": {
        "colab": {
          "base_uri": "https://localhost:8080/",
          "height": 472
        },
        "id": "b3QrKSpxFRQ-",
        "outputId": "1ec615c1-b3a1-45d5-9554-fbfd3000262a"
      },
      "execution_count": 11,
      "outputs": [
        {
          "output_type": "display_data",
          "data": {
            "text/plain": [
              "<Figure size 640x480 with 1 Axes>"
            ],
            "image/png": "[encoded data removed]"
          },
          "metadata": {}
        }
      ]
    },
    {
      "cell_type": "code",
      "source": [
        "import numpy as np\n",
        "\n",
        "# Create two matrices (2D arrays)\n",
        "matrix_a = np.array([[1, 2, 3],\n",
        "                      [4, 5, 6]])\n",
        "\n",
        "matrix_b = np.array([[7, 8],\n",
        "                      [9, 10],\n",
        "                      [11, 12]])\n",
        "\n",
        "# Perform matrix multiplication\n",
        "result = np.dot(matrix_a, matrix_b)  # Alternatively, you can use matrix_a @ matrix_b\n",
        "\n",
        "# Print the result\n",
        "print(\"Matrix A:\")\n",
        "print(matrix_a)\n",
        "print(\"\\nMatrix B:\")\n",
        "print(matrix_b)\n",
        "print(\"\\nResult of Matrix Multiplication (A * B):\")\n",
        "print(result)"
      ],
      "metadata": {
        "colab": {
          "base_uri": "https://localhost:8080/"
        },
        "id": "xVMVXYF3Fhfd",
        "outputId": "c6ded151-cef4-45ae-b5d3-0376b90f3455"
      },
      "execution_count": 12,
      "outputs": [
        {
          "output_type": "stream",
          "name": "stdout",
          "text": [
            "Matrix A:\n",
            "[[1 2 3]\n",
            " [4 5 6]]\n",
            "\n",
            "Matrix B:\n",
            "[[ 7  8]\n",
            " [ 9 10]\n",
            " [11 12]]\n",
            "\n",
            "Result of Matrix Multiplication (A * B):\n",
            "[[ 58  64]\n",
            " [139 154]]\n"
          ]
        }
      ]
    },
    {
      "cell_type": "code",
      "source": [
        "import plotly.graph_objects as go\n",
        "import numpy as np\n",
        "\n",
        "# Generate sample data\n",
        "np.random.seed(0)  # For reproducibility\n",
        "x = np.random.rand(100)  # 100 random points for x-axis\n",
        "y = np.random.rand(100)  # 100 random points for y-axis\n",
        "z = np.random.rand(100)  # 100 random points for z-axis\n",
        "\n",
        "# Create a 3D scatter plot\n",
        "fig = go.Figure(data=[go.Scatter3d(\n",
        "    x=x,\n",
        "    y=y,\n",
        "    z=z,\n",
        "    mode='markers',\n",
        "    marker=dict(\n",
        "        size=5,\n",
        "        color=z,  # Color by z value\n",
        "        colorscale='Viridis',  # Color scale\n",
        "        opacity=0.8\n",
        "    )\n",
        ")])\n",
        "\n",
        "# Add title and labels\n",
        "fig.update_layout(\n",
        "    title='3D Scatter Plot',\n",
        "    scene=dict(\n",
        "        xaxis_title='X Axis',\n",
        "        yaxis_title='Y Axis',\n",
        "        zaxis_title='Z Axis'\n",
        "    )\n",
        ")\n",
        "\n",
        "# Show the plot\n",
        "fig.show()"
      ],
      "metadata": {
        "colab": {
          "base_uri": "https://localhost:8080/",
          "height": 542
        },
        "id": "_UWmq3w6GOY4",
        "outputId": "6c2a080d-1e83-41eb-b2f0-40c46ce6f77a"
      },
      "execution_count": 15,
      "outputs": [
        {
          "output_type": "display_data",
          "data": {
            "text/html": [
              "<html>\n",
              "<head><meta charset=\"utf-8\" /></head>\n",
              "<body>\n",
              "    <div>            <script src=\"https://cdnjs.cloudflare.com/ajax/libs/mathjax/2.7.5/MathJax.js?config=TeX-AMS-MML_SVG\"></script><script type=\"text/javascript\">if (window.MathJax && window.MathJax.Hub && window.MathJax.Hub.Config) {window.MathJax.Hub.Config({SVG: {font: \"STIX-Web\"}});}</script>                <script type=\"text/javascript\">window.PlotlyConfig = {MathJaxConfig: 'local'};</script>\n",
              "        <script charset=\"utf-8\" src=\"https://cdn.plot.ly/plotly-2.35.2.min.js\"></script>                <div id=\"04a1f155-2b2f-4063-adec-4700c2e25764\" class=\"plotly-graph-div\" style=\"height:525px; width:100%;\"></div>            <script type=\"text/javascript\">                                    window.PLOTLYENV=window.PLOTLYENV || {};                                    if (document.getElementById(\"04a1f155-2b2f-4063-adec-4700c2e25764\")) {                    Plotly.newPlot(                        \"04a1f155-2b2f-4063-adec-4700c2e25764\",                        [{\"marker\":{\"color\":[0.3117958819941026,0.6963434888154595,0.3777518392924809,0.1796036775596348,0.02467872839133123,0.06724963146324858,0.6793927734985673,0.4536968445560453,0.5365792111087222,0.8966712930403421,0.9903389473967044,0.21689698439847394,0.6630782031001008,0.26332237673715064,0.02065099946572868,0.7583786538361414,0.32001715082246784,0.38346389417189797,0.5883171135536057,0.8310484552361904,0.6289818435911487,0.8726506554473953,0.27354203481563577,0.7980468339125637,0.1856359443059522,0.9527916569719446,0.6874882763878153,0.21550767711355845,0.9473705904889242,0.7308558067701578,0.25394164259502583,0.21331197736748198,0.5182007139306632,0.025662718054531575,0.2074700754411094,0.42468546875150626,0.37416998033422555,0.4635754243648107,0.2776287062947319,0.5867843464581688,0.8638556059232314,0.11753185596203308,0.5173791071541142,0.1320681063451533,0.7168596811925937,0.39605970280729375,0.565421311858509,0.18327983621407862,0.14484775934337724,0.48805628064895457,0.3556127378499556,0.940431945252813,0.7653252538069653,0.7486636198505473,0.9037197397459334,0.08342243544201855,0.5521924699224066,0.5844760689557689,0.961936378547229,0.29214752679254885,0.24082877991544682,0.10029394226549782,0.016429629591474204,0.9295293167921905,0.66991654659091,0.7851529120231378,0.2817301057539491,0.5864101661863267,0.06395526612098112,0.4856275959346229,0.9774951397444468,0.8765052453165908,0.33815895183684563,0.9615701545414985,0.2317016264712045,0.9493188224156814,0.9413777047064986,0.7992025873523917,0.6304479368667911,0.874287966624947,0.2930202845077967,0.8489435553129182,0.6178766919175238,0.01323685775889949,0.34723351793221957,0.14814086094816503,0.9818293898182532,0.47837030703998806,0.4973913654986627,0.6394725163987236,0.3685846061296175,0.13690027168559893,0.8221177331942455,0.18984791190275796,0.511318982546456,0.22431702897473926,0.09784448449403405,0.8621915174216833,0.9729194890231303,0.9608346580630002],\"colorscale\":[[0.0,\"#440154\"],[0.1111111111111111,\"#482878\"],[0.2222222222222222,\"#3e4989\"],[0.3333333333333333,\"#31688e\"],[0.4444444444444444,\"#26828e\"],[0.5555555555555556,\"#1f9e89\"],[0.6666666666666666,\"#35b779\"],[0.7777777777777778,\"#6ece58\"],[0.8888888888888888,\"#b5de2b\"],[1.0,\"#fde725\"]],\"opacity\":0.8,\"size\":5},\"mode\":\"markers\",\"x\":[0.5488135039273248,0.7151893663724195,0.6027633760716439,0.5448831829968969,0.4236547993389047,0.6458941130666561,0.4375872112626925,0.8917730007820798,0.9636627605010293,0.3834415188257777,0.7917250380826646,0.5288949197529045,0.5680445610939323,0.925596638292661,0.07103605819788694,0.08712929970154071,0.02021839744032572,0.832619845547938,0.7781567509498505,0.8700121482468192,0.978618342232764,0.7991585642167236,0.46147936225293185,0.7805291762864555,0.11827442586893322,0.6399210213275238,0.1433532874090464,0.9446689170495839,0.5218483217500717,0.4146619399905236,0.26455561210462697,0.7742336894342167,0.45615033221654855,0.5684339488686485,0.018789800436355142,0.6176354970758771,0.6120957227224214,0.6169339968747569,0.9437480785146242,0.6818202991034834,0.359507900573786,0.43703195379934145,0.6976311959272649,0.06022547162926983,0.6667667154456677,0.6706378696181594,0.2103825610738409,0.1289262976548533,0.31542835092418386,0.3637107709426226,0.5701967704178796,0.43860151346232035,0.9883738380592262,0.10204481074802807,0.2088767560948347,0.16130951788499626,0.6531083254653984,0.2532916025397821,0.4663107728563063,0.24442559200160274,0.15896958364551972,0.11037514116430513,0.6563295894652734,0.1381829513486138,0.1965823616800535,0.3687251706609641,0.8209932298479351,0.09710127579306127,0.8379449074988039,0.09609840789396307,0.9764594650133958,0.4686512016477016,0.9767610881903371,0.604845519745046,0.7392635793983017,0.039187792254320675,0.2828069625764096,0.1201965612131689,0.29614019752214493,0.11872771895424405,0.317983179393976,0.41426299451466997,0.06414749634878436,0.6924721193700198,0.5666014542065752,0.2653894909394454,0.5232480534666997,0.09394051075844168,0.5759464955561793,0.9292961975762141,0.31856895245132366,0.6674103799636817,0.13179786240439217,0.7163272041185655,0.2894060929472011,0.18319136200711683,0.5865129348100832,0.020107546187493552,0.8289400292173631,0.004695476192547066],\"y\":[0.6778165367962301,0.27000797319216485,0.7351940221225949,0.9621885451174382,0.24875314351995803,0.5761573344178369,0.592041931271839,0.5722519057908734,0.2230816326406183,0.952749011516985,0.44712537861762736,0.8464086724711278,0.6994792753175043,0.29743695085513366,0.8137978197024772,0.39650574084698464,0.8811031971111616,0.5812728726358587,0.8817353618548528,0.6925315900777659,0.7252542798196405,0.5013243819267023,0.9560836347232239,0.6439901992296374,0.4238550485581797,0.6063932141279244,0.019193198309333526,0.30157481667454933,0.660173537492685,0.29007760721044407,0.6180154289988415,0.42876870094576613,0.13547406422245023,0.29828232595603077,0.5699649107012649,0.5908727612481732,0.5743252488495788,0.6532008198571336,0.6521032700016889,0.43141843543397396,0.896546595851063,0.36756187004789653,0.4358649252656268,0.8919233550156721,0.8061939890460857,0.7038885835403663,0.10022688731230112,0.9194826137446735,0.7142412995491114,0.9988470065678665,0.14944830465799375,0.8681260573682142,0.16249293467637482,0.6155595642838442,0.12381998284944151,0.8480082293222344,0.8073189587250107,0.5691007386145933,0.40718329722599966,0.06916699545513805,0.6974287731445636,0.45354268267806885,0.7220555994703479,0.8663823259286292,0.9755215050028858,0.855803342392611,0.011714084185001972,0.3599780644783639,0.729990562424058,0.17162967726144052,0.5210366062041293,0.05433798833925363,0.19999652489640007,0.01852179446061397,0.7936977033574206,0.22392468806038013,0.3453516806969027,0.9280812934655909,0.7044144019235328,0.03183892953130785,0.16469415649791275,0.6214784014997635,0.5772285886041676,0.23789282137450862,0.9342139979247938,0.613965955965896,0.5356328030249583,0.589909976354571,0.7301220295167696,0.31194499547960186,0.3982210622160919,0.20984374897512215,0.18619300588033616,0.9443723899839336,0.7395507950492876,0.4904588086175671,0.22741462797332324,0.25435648177039294,0.05802916032387562,0.4344166255581208],\"z\":[0.3117958819941026,0.6963434888154595,0.3777518392924809,0.1796036775596348,0.02467872839133123,0.06724963146324858,0.6793927734985673,0.4536968445560453,0.5365792111087222,0.8966712930403421,0.9903389473967044,0.21689698439847394,0.6630782031001008,0.26332237673715064,0.02065099946572868,0.7583786538361414,0.32001715082246784,0.38346389417189797,0.5883171135536057,0.8310484552361904,0.6289818435911487,0.8726506554473953,0.27354203481563577,0.7980468339125637,0.1856359443059522,0.9527916569719446,0.6874882763878153,0.21550767711355845,0.9473705904889242,0.7308558067701578,0.25394164259502583,0.21331197736748198,0.5182007139306632,0.025662718054531575,0.2074700754411094,0.42468546875150626,0.37416998033422555,0.4635754243648107,0.2776287062947319,0.5867843464581688,0.8638556059232314,0.11753185596203308,0.5173791071541142,0.1320681063451533,0.7168596811925937,0.39605970280729375,0.565421311858509,0.18327983621407862,0.14484775934337724,0.48805628064895457,0.3556127378499556,0.940431945252813,0.7653252538069653,0.7486636198505473,0.9037197397459334,0.08342243544201855,0.5521924699224066,0.5844760689557689,0.961936378547229,0.29214752679254885,0.24082877991544682,0.10029394226549782,0.016429629591474204,0.9295293167921905,0.66991654659091,0.7851529120231378,0.2817301057539491,0.5864101661863267,0.06395526612098112,0.4856275959346229,0.9774951397444468,0.8765052453165908,0.33815895183684563,0.9615701545414985,0.2317016264712045,0.9493188224156814,0.9413777047064986,0.7992025873523917,0.6304479368667911,0.874287966624947,0.2930202845077967,0.8489435553129182,0.6178766919175238,0.01323685775889949,0.34723351793221957,0.14814086094816503,0.9818293898182532,0.47837030703998806,0.4973913654986627,0.6394725163987236,0.3685846061296175,0.13690027168559893,0.8221177331942455,0.18984791190275796,0.511318982546456,0.22431702897473926,0.09784448449403405,0.8621915174216833,0.9729194890231303,0.9608346580630002],\"type\":\"scatter3d\"}],                        {\"template\":{\"data\":{\"histogram2dcontour\":[{\"type\":\"histogram2dcontour\",\"colorbar\":{\"outlinewidth\":0,\"ticks\":\"\"},\"colorscale\":[[0.0,\"#0d0887\"],[0.1111111111111111,\"#46039f\"],[0.2222222222222222,\"#7201a8\"],[0.3333333333333333,\"#9c179e\"],[0.4444444444444444,\"#bd3786\"],[0.5555555555555556,\"#d8576b\"],[0.6666666666666666,\"#ed7953\"],[0.7777777777777778,\"#fb9f3a\"],[0.8888888888888888,\"#fdca26\"],[1.0,\"#f0f921\"]]}],\"choropleth\":[{\"type\":\"choropleth\",\"colorbar\":{\"outlinewidth\":0,\"ticks\":\"\"}}],\"histogram2d\":[{\"type\":\"histogram2d\",\"colorbar\":{\"outlinewidth\":0,\"ticks\":\"\"},\"colorscale\":[[0.0,\"#0d0887\"],[0.1111111111111111,\"#46039f\"],[0.2222222222222222,\"#7201a8\"],[0.3333333333333333,\"#9c179e\"],[0.4444444444444444,\"#bd3786\"],[0.5555555555555556,\"#d8576b\"],[0.6666666666666666,\"#ed7953\"],[0.7777777777777778,\"#fb9f3a\"],[0.8888888888888888,\"#fdca26\"],[1.0,\"#f0f921\"]]}],\"heatmap\":[{\"type\":\"heatmap\",\"colorbar\":{\"outlinewidth\":0,\"ticks\":\"\"},\"colorscale\":[[0.0,\"#0d0887\"],[0.1111111111111111,\"#46039f\"],[0.2222222222222222,\"#7201a8\"],[0.3333333333333333,\"#9c179e\"],[0.4444444444444444,\"#bd3786\"],[0.5555555555555556,\"#d8576b\"],[0.6666666666666666,\"#ed7953\"],[0.7777777777777778,\"#fb9f3a\"],[0.8888888888888888,\"#fdca26\"],[1.0,\"#f0f921\"]]}],\"heatmapgl\":[{\"type\":\"heatmapgl\",\"colorbar\":{\"outlinewidth\":0,\"ticks\":\"\"},\"colorscale\":[[0.0,\"#0d0887\"],[0.1111111111111111,\"#46039f\"],[0.2222222222222222,\"#7201a8\"],[0.3333333333333333,\"#9c179e\"],[0.4444444444444444,\"#bd3786\"],[0.5555555555555556,\"#d8576b\"],[0.6666666666666666,\"#ed7953\"],[0.7777777777777778,\"#fb9f3a\"],[0.8888888888888888,\"#fdca26\"],[1.0,\"#f0f921\"]]}],\"contourcarpet\":[{\"type\":\"contourcarpet\",\"colorbar\":{\"outlinewidth\":0,\"ticks\":\"\"}}],\"contour\":[{\"type\":\"contour\",\"colorbar\":{\"outlinewidth\":0,\"ticks\":\"\"},\"colorscale\":[[0.0,\"#0d0887\"],[0.1111111111111111,\"#46039f\"],[0.2222222222222222,\"#7201a8\"],[0.3333333333333333,\"#9c179e\"],[0.4444444444444444,\"#bd3786\"],[0.5555555555555556,\"#d8576b\"],[0.6666666666666666,\"#ed7953\"],[0.7777777777777778,\"#fb9f3a\"],[0.8888888888888888,\"#fdca26\"],[1.0,\"#f0f921\"]]}],\"surface\":[{\"type\":\"surface\",\"colorbar\":{\"outlinewidth\":0,\"ticks\":\"\"},\"colorscale\":[[0.0,\"#0d0887\"],[0.1111111111111111,\"#46039f\"],[0.2222222222222222,\"#7201a8\"],[0.3333333333333333,\"#9c179e\"],[0.4444444444444444,\"#bd3786\"],[0.5555555555555556,\"#d8576b\"],[0.6666666666666666,\"#ed7953\"],[0.7777777777777778,\"#fb9f3a\"],[0.8888888888888888,\"#fdca26\"],[1.0,\"#f0f921\"]]}],\"mesh3d\":[{\"type\":\"mesh3d\",\"colorbar\":{\"outlinewidth\":0,\"ticks\":\"\"}}],\"scatter\":[{\"fillpattern\":{\"fillmode\":\"overlay\",\"size\":10,\"solidity\":0.2},\"type\":\"scatter\"}],\"parcoords\":[{\"type\":\"parcoords\",\"line\":{\"colorbar\":{\"outlinewidth\":0,\"ticks\":\"\"}}}],\"scatterpolargl\":[{\"type\":\"scatterpolargl\",\"marker\":{\"colorbar\":{\"outlinewidth\":0,\"ticks\":\"\"}}}],\"bar\":[{\"error_x\":{\"color\":\"#2a3f5f\"},\"error_y\":{\"color\":\"#2a3f5f\"},\"marker\":{\"line\":{\"color\":\"#E5ECF6\",\"width\":0.5},\"pattern\":{\"fillmode\":\"overlay\",\"size\":10,\"solidity\":0.2}},\"type\":\"bar\"}],\"scattergeo\":[{\"type\":\"scattergeo\",\"marker\":{\"colorbar\":{\"outlinewidth\":0,\"ticks\":\"\"}}}],\"scatterpolar\":[{\"type\":\"scatterpolar\",\"marker\":{\"colorbar\":{\"outlinewidth\":0,\"ticks\":\"\"}}}],\"histogram\":[{\"marker\":{\"pattern\":{\"fillmode\":\"overlay\",\"size\":10,\"solidity\":0.2}},\"type\":\"histogram\"}],\"scattergl\":[{\"type\":\"scattergl\",\"marker\":{\"colorbar\":{\"outlinewidth\":0,\"ticks\":\"\"}}}],\"scatter3d\":[{\"type\":\"scatter3d\",\"line\":{\"colorbar\":{\"outlinewidth\":0,\"ticks\":\"\"}},\"marker\":{\"colorbar\":{\"outlinewidth\":0,\"ticks\":\"\"}}}],\"scattermapbox\":[{\"type\":\"scattermapbox\",\"marker\":{\"colorbar\":{\"outlinewidth\":0,\"ticks\":\"\"}}}],\"scatterternary\":[{\"type\":\"scatterternary\",\"marker\":{\"colorbar\":{\"outlinewidth\":0,\"ticks\":\"\"}}}],\"scattercarpet\":[{\"type\":\"scattercarpet\",\"marker\":{\"colorbar\":{\"outlinewidth\":0,\"ticks\":\"\"}}}],\"carpet\":[{\"aaxis\":{\"endlinecolor\":\"#2a3f5f\",\"gridcolor\":\"white\",\"linecolor\":\"white\",\"minorgridcolor\":\"white\",\"startlinecolor\":\"#2a3f5f\"},\"baxis\":{\"endlinecolor\":\"#2a3f5f\",\"gridcolor\":\"white\",\"linecolor\":\"white\",\"minorgridcolor\":\"white\",\"startlinecolor\":\"#2a3f5f\"},\"type\":\"carpet\"}],\"table\":[{\"cells\":{\"fill\":{\"color\":\"#EBF0F8\"},\"line\":{\"color\":\"white\"}},\"header\":{\"fill\":{\"color\":\"#C8D4E3\"},\"line\":{\"color\":\"white\"}},\"type\":\"table\"}],\"barpolar\":[{\"marker\":{\"line\":{\"color\":\"#E5ECF6\",\"width\":0.5},\"pattern\":{\"fillmode\":\"overlay\",\"size\":10,\"solidity\":0.2}},\"type\":\"barpolar\"}],\"pie\":[{\"automargin\":true,\"type\":\"pie\"}]},\"layout\":{\"autotypenumbers\":\"strict\",\"colorway\":[\"#636efa\",\"#EF553B\",\"#00cc96\",\"#ab63fa\",\"#FFA15A\",\"#19d3f3\",\"#FF6692\",\"#B6E880\",\"#FF97FF\",\"#FECB52\"],\"font\":{\"color\":\"#2a3f5f\"},\"hovermode\":\"closest\",\"hoverlabel\":{\"align\":\"left\"},\"paper_bgcolor\":\"white\",\"plot_bgcolor\":\"#E5ECF6\",\"polar\":{\"bgcolor\":\"#E5ECF6\",\"angularaxis\":{\"gridcolor\":\"white\",\"linecolor\":\"white\",\"ticks\":\"\"},\"radialaxis\":{\"gridcolor\":\"white\",\"linecolor\":\"white\",\"ticks\":\"\"}},\"ternary\":{\"bgcolor\":\"#E5ECF6\",\"aaxis\":{\"gridcolor\":\"white\",\"linecolor\":\"white\",\"ticks\":\"\"},\"baxis\":{\"gridcolor\":\"white\",\"linecolor\":\"white\",\"ticks\":\"\"},\"caxis\":{\"gridcolor\":\"white\",\"linecolor\":\"white\",\"ticks\":\"\"}},\"coloraxis\":{\"colorbar\":{\"outlinewidth\":0,\"ticks\":\"\"}},\"colorscale\":{\"sequential\":[[0.0,\"#0d0887\"],[0.1111111111111111,\"#46039f\"],[0.2222222222222222,\"#7201a8\"],[0.3333333333333333,\"#9c179e\"],[0.4444444444444444,\"#bd3786\"],[0.5555555555555556,\"#d8576b\"],[0.6666666666666666,\"#ed7953\"],[0.7777777777777778,\"#fb9f3a\"],[0.8888888888888888,\"#fdca26\"],[1.0,\"#f0f921\"]],\"sequentialminus\":[[0.0,\"#0d0887\"],[0.1111111111111111,\"#46039f\"],[0.2222222222222222,\"#7201a8\"],[0.3333333333333333,\"#9c179e\"],[0.4444444444444444,\"#bd3786\"],[0.5555555555555556,\"#d8576b\"],[0.6666666666666666,\"#ed7953\"],[0.7777777777777778,\"#fb9f3a\"],[0.8888888888888888,\"#fdca26\"],[1.0,\"#f0f921\"]],\"diverging\":[[0,\"#8e0152\"],[0.1,\"#c51b7d\"],[0.2,\"#de77ae\"],[0.3,\"#f1b6da\"],[0.4,\"#fde0ef\"],[0.5,\"#f7f7f7\"],[0.6,\"#e6f5d0\"],[0.7,\"#b8e186\"],[0.8,\"#7fbc41\"],[0.9,\"#4d9221\"],[1,\"#276419\"]]},\"xaxis\":{\"gridcolor\":\"white\",\"linecolor\":\"white\",\"ticks\":\"\",\"title\":{\"standoff\":15},\"zerolinecolor\":\"white\",\"automargin\":true,\"zerolinewidth\":2},\"yaxis\":{\"gridcolor\":\"white\",\"linecolor\":\"white\",\"ticks\":\"\",\"title\":{\"standoff\":15},\"zerolinecolor\":\"white\",\"automargin\":true,\"zerolinewidth\":2},\"scene\":{\"xaxis\":{\"backgroundcolor\":\"#E5ECF6\",\"gridcolor\":\"white\",\"linecolor\":\"white\",\"showbackground\":true,\"ticks\":\"\",\"zerolinecolor\":\"white\",\"gridwidth\":2},\"yaxis\":{\"backgroundcolor\":\"#E5ECF6\",\"gridcolor\":\"white\",\"linecolor\":\"white\",\"showbackground\":true,\"ticks\":\"\",\"zerolinecolor\":\"white\",\"gridwidth\":2},\"zaxis\":{\"backgroundcolor\":\"#E5ECF6\",\"gridcolor\":\"white\",\"linecolor\":\"white\",\"showbackground\":true,\"ticks\":\"\",\"zerolinecolor\":\"white\",\"gridwidth\":2}},\"shapedefaults\":{\"line\":{\"color\":\"#2a3f5f\"}},\"annotationdefaults\":{\"arrowcolor\":\"#2a3f5f\",\"arrowhead\":0,\"arrowwidth\":1},\"geo\":{\"bgcolor\":\"white\",\"landcolor\":\"#E5ECF6\",\"subunitcolor\":\"white\",\"showland\":true,\"showlakes\":true,\"lakecolor\":\"white\"},\"title\":{\"x\":0.05},\"mapbox\":{\"style\":\"light\"}}},\"title\":{\"text\":\"3D Scatter Plot\"},\"scene\":{\"xaxis\":{\"title\":{\"text\":\"X Axis\"}},\"yaxis\":{\"title\":{\"text\":\"Y Axis\"}},\"zaxis\":{\"title\":{\"text\":\"Z Axis\"}}}},                        {\"responsive\": true}                    ).then(function(){\n",
              "                            \n",
              "var gd = document.getElementById('04a1f155-2b2f-4063-adec-4700c2e25764');\n",
              "var x = new MutationObserver(function (mutations, observer) {{\n",
              "        var display = window.getComputedStyle(gd).display;\n",
              "        if (!display || display === 'none') {{\n",
              "            console.log([gd, 'removed!']);\n",
              "            Plotly.purge(gd);\n",
              "            observer.disconnect();\n",
              "        }}\n",
              "}});\n",
              "\n",
              "// Listen for the removal of the full notebook cells\n",
              "var notebookContainer = gd.closest('#notebook-container');\n",
              "if (notebookContainer) {{\n",
              "    x.observe(notebookContainer, {childList: true});\n",
              "}}\n",
              "\n",
              "// Listen for the clearing of the current output cell\n",
              "var outputEl = gd.closest('.output');\n",
              "if (outputEl) {{\n",
              "    x.observe(outputEl, {childList: true});\n",
              "}}\n",
              "\n",
              "                        })                };                            </script>        </div>\n",
              "</body>\n",
              "</html>"
            ]
          },
          "metadata": {}
        }
      ]
    }
  ]
}